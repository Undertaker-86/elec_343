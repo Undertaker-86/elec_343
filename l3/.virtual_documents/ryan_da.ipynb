import pandas as pd

# Load the Excel file
file_path = "FILE_7929.xlsx"  # Update with your actual file path
xls = pd.ExcelFile(file_path)

# Read the first sheet (modify if necessary)
df = pd.read_excel(xls, sheet_name="Task 1", header=None)

# Identify table start positions based on titles like "Task 1-A, Table X: ..."
table_starts = df[df[0].str.contains("Task 1-A, Table", na=False)].index.tolist()
table_starts.append(len(df))  # Add the end of the file as the last index

# Extract tables into separate DataFrames
tables = {}

for i in range(len(table_starts) - 1):
    table_name = f"Table_{i+1}"
    
    # Slice the DataFrame from the start of the table to just before the next one
    table_df = df.iloc[table_starts[i] + 1 : table_starts[i + 1]].dropna(how="all")
    
    # Set the first row as column headers
    table_df.columns = table_df.iloc[0]
    
    # Drop the original header row
    table_df = table_df[1:].reset_index(drop=True)
    
    # Store the table
    tables[table_name] = table_df

# Display the extracted tables
for name, table in tables.items():
    print(f"\n{name}:\n")
    print(table.head())  # Show the first few rows of each table







