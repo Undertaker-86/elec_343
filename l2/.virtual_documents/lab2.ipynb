import pandas as pd
import numpy as np
import matplotlib.pyplot as plt


part_1b = pd.read_csv("Lab2_343_Task 1.csv", skiprows=7, header=None)
part_1b = part_1b.drop(part_1b.columns[0], axis=1)
part_1b = part_1b.set_index(1).T
part_1b = part_1b.reset_index(drop=True)
display(part_1b)


plt.rcParams.update({'font.size': 14})
y  = part_1b["V1(ave) [V]"]
x  = part_1b["I1(ave) [A]"]

plt.plot(x, y, label="No load")
plt.xlabel("No load current (A)")
plt.ylabel("No load Voltage (V)")
plt.scatter(x, y, marker="o")
plt.title("No Load Motor Characteristics")
plt.savefig("output/no_load_voltage_current.png")


part2a = pd.read_csv("Lab 2 343 - Task 2.csv", skiprows=2, nrows=12, header=None)
part2a = part2a.drop(part2a.columns[0], axis=1)
part2a = part2a.set_index(1).T
display(part2a)
