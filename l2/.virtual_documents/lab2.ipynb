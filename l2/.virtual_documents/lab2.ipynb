import pandas as pd
import numpy as np
import matplotlib.pyplot as plt


part_1b = pd.read_csv("Lab2_343_Task 1.csv", skiprows=7, header=None)
part_1b = part_1b.drop(part_1b.columns[0], axis=1)
part_1b = part_1b.set_index(1).T
part_1b = part_1b.reset_index(drop=True)
display(part_1b)


from sklearn.linear_model import LinearRegression
from sklearn.metrics import r2_score
plt.rcParams.update({'font.size': 14})
y  = part_1b["V1(ave) [V]"]
x  = part_1b["I1(ave) [A]"]

plt.plot(x, y, label="No load")
plt.xlabel("No load current (A)")
plt.ylabel("No load Voltage (V)")
plt.scatter(x, y, marker="o")
plt.title("No Load Motor Characteristics")
plt.grid()
plt.savefig("output/no_load_voltage_current.png")
plt.show()

# x = part_1b["n1 (ave) [RPM]"].values.reshape(-1, 1)
# y = part_1b["Tfric [Nm]"]
# model = LinearRegression()
# model.fit(x,y)
# y_predict = model.predict(x)
# r2_model = r2_score(y, y_predict)

# model.fit(x,y)

# plt.scatter(x, y, label="Measured Data")
# plt.plot(x, y_predict, label="Fitted Data")
# plt.show()

x = part_1b["n1 (ave) [RPM]"].values.reshape(-1, 1)
y = part_1b["Tfric [Nm]"]
linear_model = LinearRegression()
linear_model.fit(x,y)
y_pred_linear = linear_model.predict(x)
r2_linear = r2_score(y, y_pred_linear)
linear_eq = f"Linear: Tm = {linear_model.coef_[0]:.4f} * n + {linear_model.intercept_:.4f}\nR² = {r2_linear:.4f}"

poly = PolynomialFeatures(degree=2)
x_poly = poly.fit_transform(x)
quad_model = LinearRegression()
quad_model.fit(x_poly, y)
y_pred_quad = quad_model.predict(x_poly)
r2_quad = r2_score(y, y_pred_quad)
quad_eq = (f"Quadratic: Tm = {quad_model.coef_[2]:.6f} * n² + "
           f"{quad_model.coef_[1]:.4f} * n + {quad_model.intercept_:.4f}\nR² = {r2_quad:.4f}")
plt.scatter(x, y, color='black', label="Actual Data")
plt.plot(x, y_pred_linear, 'b--', label="Linear Fit")
plt.plot(x, y_pred_quad, 'r-', label="Quadratic Fit")
plt.text(x.mean(), max(y)*0.9, linear_eq, fontsize=10, color='blue', verticalalignment='top')
plt.text(x.mean()-450, max(y)*0.75, quad_eq, fontsize=10, color='red', verticalalignment='top')

# Labels and legend
plt.xlabel("n [RPM]")
plt.ylabel("Friction Torque [Nm]")
plt.title("No Load Friction")
plt.legend()
plt.grid()
plt.savefig("output/1b_no_load_friction.png")
plt.show()


part2a = pd.read_csv("Lab 2 343 - Task 2.csv", skiprows=2, nrows=12, header=None)
part2a = part2a.drop(part2a.columns[0], axis=1)
part2a = part2a.set_index(1).T
display(part2a)


fix, ax1 = plt.subplots(figsize=(12, 6))
x1 = part2a["I1(ave)[A]"]
p1 = part2a["P1(ave) [W]"]
v1 = part2a["V1(ave)[V]"]
x2 = part2a["I2(ave)[A]"]
p2 = part2a["P2(ave) [W]"]
v2 = part2a["V2(ave)[V]"]

plt.grid()
ax2 = ax1.twinx()

primary_voltage_color = "#1f77b4"  # Standard blue
primary_power_color = "#4f92c5"    # Lighter blue
secondary_voltage_color = "#2ca02c"  # Standard green
secondary_power_color = "#5fbf5f"    # Lighter green

# Voltage plots (solid lines with circles)
line1, = ax1.plot(x1, v1, 'o-', color=primary_voltage_color, label="Voltage (Primary)")
line2, = ax1.plot(x2, v2, 'o-', color=secondary_voltage_color, label="Voltage (Secondary)")

# Power plots (dashed lines with squares)
line3, = ax2.plot(x1, p1, 's--', color=primary_power_color, label="Power (Primary)")
line4, = ax2.plot(x2, p2, 's--', color=secondary_power_color, label="Power (Secondary)")

# Set labels
ax1.set_ylabel("Voltage (V)")
ax2.set_ylabel("Power (W)")
ax1.set_xlabel("Current (A)")

# Create combined legend
lines = [line1, line2, line3, line4]
labels = [l.get_label() for l in lines]
ax1.legend(lines, labels, loc="upper left", bbox_to_anchor=(1.1, 1), title="Legend")

# ax1.legend(lines, labels, loc="lower right", title="Legend")

plt.title("Voltage and Power vs. Current")
# plt.grid()
plt.savefig("output/2a_Voltage and power.png")
plt.show()


from sklearn.linear_model import LinearRegression
from sklearn.preprocessing import PolynomialFeatures
from sklearn.metrics import r2_score

x = part2a["n [RPM]"].values.reshape(-1, 1)
y = part2a["Tm [Nm]"].values

linear_model = LinearRegression()
linear_model.fit(x,y)
y_pred_linear = linear_model.predict(x)
r2_linear = r2_score(y, y_pred_linear)
linear_eq = f"Linear: Tm = {linear_model.coef_[0]:.4f} * n + {linear_model.intercept_:.4f}\nR² = {r2_linear:.4f}"

poly = PolynomialFeatures(degree=2)
x_poly = poly.fit_transform(x)
quad_model = LinearRegression()
quad_model.fit(x_poly, y)
y_pred_quad = quad_model.predict(x_poly)
r2_quad = r2_score(y, y_pred_quad)
quad_eq = (f"Quadratic: Tm = {quad_model.coef_[2]:.6f} * n² + "
           f"{quad_model.coef_[1]:.4f} * n + {quad_model.intercept_:.4f}\nR² = {r2_quad:.4f}")
plt.scatter(x, y, color='black', label="Actual Data")
plt.plot(x, y_pred_linear, 'b--', label="Linear Fit")
plt.plot(x, y_pred_quad, 'r-', label="Quadratic Fit")
plt.text(min(x), max(y)*0.5, linear_eq, fontsize=10, color='blue', verticalalignment='top')
plt.text(min(x), max(y)*0.3, quad_eq, fontsize=10, color='red', verticalalignment='top')

# Labels and legend
plt.xlabel("n [RPM]")
plt.ylabel("Torque [Nm]")
plt.title("Loaded Motor Torque vs Speed")
plt.legend()
plt.grid()
plt.savefig("output/2a_friction_torque.png")
plt.show()





part1c = pd.read_csv("recorded_data/other/task1c.txt", delimiter="\t")
# part1c = part1c[part1c["Time (ms)"] < 750]
display(part1c)
x = part1c["Time (ms)"][0:1000]
y2 = part1c["Ch1 A"][0:1000]
plt.xlabel("Time (ms)")
plt.ylabel("Current (A)")
plt.plot(x, y2)
plt.title("Current Ripple of No Load Motor")
plt.savefig("output/1c_ripple.png")
plt.show()



zoom_start, zoom_end = 45, 55

# Create the figure and main plot
fig, ax = plt.subplots(figsize=(8, 6))

# Plot main data
ax.plot(x, y2, label="Current (A)")
ax.set_xlabel("Time (ms)")
ax.set_ylabel("Current (A)")
ax.set_title("Current Ripple of No Load Motor")

# Define zoomed-in region
mask = (x >= zoom_start) & (x <= zoom_end)
zoom_x = x[mask]
zoom_y = y2[mask]

# Create inset zoomed plot
ax_inset = fig.add_axes([1.15, 0.3, 0.5, 0.5])  # Adjust position and size
ax_inset.plot(zoom_x, zoom_y, color="red")
ax_inset.set_title("Zoomed-in View")
ax_inset.set_xlabel("Time (ms)")
ax_inset.set_ylabel("Current (A)")

# Draw a rectangle around the zoomed-in area
ax.add_patch(
    plt.Rectangle((zoom_start, min(zoom_y)), zoom_end - zoom_start, max(zoom_y) - min(zoom_y),
                  edgecolor="red", facecolor="none", linestyle="dashed", linewidth=1.5)
)

# Draw an arrow connecting the rectangle to the inset
ax.annotate("", xy=(55, max(zoom_y) - 0.1), xytext=(80, max(zoom_y) - 0.1),
            arrowprops=dict(arrowstyle="->", color="red", linewidth=1.5))

# Display the plot
plt.show()





part3b = pd.read_csv("recorded_data/task3b_0.5", delimiter="\t")
# part3b = part1c[part1c["Time (ms)"] > 750]
display(part3b)
x = part3b["Time (ms)"][0:1000]
y2 = part3b["Ch1 A"][0:1000]
plt.plot(x, y2)
plt.title("Current Ripple for 10kHz Switching Frequency")
plt.xlabel("Time (ms)")
plt.ylabel("Current (A)")
plt.savefig("output/3b_ripple.png")




