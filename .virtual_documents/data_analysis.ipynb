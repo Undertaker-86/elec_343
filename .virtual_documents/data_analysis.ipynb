import pandas as pd
import matplotlib.pyplot as plt
import numpy as np
import scipy as sc

import polars as pl
from pathlib import Path


first_task = pd.read_csv("ELEC 343 Lab 1 - 1B.csv", skiprows=1)
first_task["plunger position (m)"] = (first_task["plunger position (mm)"] - first_task["plunger position (mm)"][0])/100e3 
first_task.head()


from scipy.optimize import curve_fit

x_data = first_task["plunger position (m)"][:-1].values
y_data = first_task["inductance (mH)"][:-1].values * 1e-3

# 2. Get L0 from the last row of the DataFrame
L0 = first_task["inductance (mH)"].iloc[-1] * 1e-3

# 3. Define the inductance model: L(x) = k1 / (k2 + x) + L0
def inductance_model(x, k1, k2):
    return k1 / (k2 + x) + L0

# 4. Fit with initial guesses p0
p0 = [1.0, 1.0]
popt, pcov = curve_fit(inductance_model, x_data, y_data, p0=p0)
k1_fit, k2_fit = popt

# 5. Print fitted parameters
print("Fitted parameters:")
print(f"  k1 = {k1_fit:.5f}")
print(f"  k2 = {k2_fit:.5f}")
print(f"  L0 (from data) = {L0:.5f}")

# 6. Compute standard errors
std_errors = np.sqrt(np.diag(pcov))
std_k1, std_k2 = std_errors
print("Standard Errors:")
print(f"  k1 std = {std_k1:.5f}")
print(f"  k2 std = {std_k2:.5f}")

# 7. Evaluate the model on the original x_data for R²
y_pred = inductance_model(x_data, k1_fit, k2_fit)

# Calculate R²
ss_res = np.sum((y_data - y_pred)**2)             # residual sum of squares
ss_tot = np.sum((y_data - np.mean(y_data))**2)    # total sum of squares
r2 = 1 - (ss_res / ss_tot)

print(f"R^2 = {r2:.5f}")

# 8. Plot the data
plt.scatter(x_data, y_data, label="Measured Inductance", color="blue")

# 9. Generate a smooth fitted curve for plotting
x_fit = np.linspace(min(x_data), max(x_data), 200)
y_fit = inductance_model(x_fit, k1_fit, k2_fit)
plt.plot(x_fit, y_fit, label="Fitted Curve", color="red")

# 10. Display the equation and R² on the plot
# We'll show it in the form L(x) = k1/(k2 + x) + L0
# with numeric values for k1, k2, and L0. Adjust formatting as you like.
model_text = (
    f"L(x) = {k1_fit:.3f}/(x + {k2_fit:.3f}) + {L0:.3f}\n"
    f"R² = {r2:.3f}"
)
plt.text(
    0.25, 0.55, 
    model_text, 
    transform=plt.gca().transAxes, 
    fontsize=12, 
    verticalalignment='top'
)

# 11. Label and show
plt.title("Inductance vs Distance")
plt.xlabel("Distance (m)")
plt.ylabel("Inductance (H)")
plt.legend()
plt.savefig("Inductance vs distance.png", dpi=500)
plt.show()


ab = pd.read_csv("ELEC 343 Lab 1 - 2AB.csv")
filtered = ab[0:4]
filtered


import numpy as np
import matplotlib.pyplot as plt
from sklearn.metrics import r2_score

# Example Data
# x: Voltage
# y: Weight mass (g) * g (9.81) = Force in Newtons
x = filtered["voltage"].values
y = filtered["weight mass, m (g)"].values * 9.81e-3

# 1. Linear fit using polyfit (degree = 1)
slope, intercept = np.polyfit(x, y, 1)

# 2. Predict y values
y_pred = slope * x + intercept

# 3. Compute R²
r2 = r2_score(y, y_pred)

# 4. Plot the data as scatter
plt.scatter(x, y, label="Data Points", color="blue")

# Sort x for a nice line
x_sorted = np.sort(x)
y_fit = slope * x_sorted + intercept

# 5. Plot the fitted line
plt.plot(x_sorted, y_fit, label="Linear Fit", color="red")

# 6. Display the equation and R² on the plot
eq_text = f"y = {slope:.2f} x + {intercept:.2f}\nR² = {r2:.3f}"
plt.text(
    0.05,      # x-position in figure coordinates (0=left, 1=right)
    0.55,      # y-position in figure coordinates (0=bottom, 1=top)
    eq_text,
    transform=plt.gca().transAxes,  # Place text relative to axes
    fontsize=12,
    verticalalignment='top'         # Align text at the top
)

# Labels and legend
plt.xlabel("Voltage (V)")
plt.ylabel("Weight (N)")
plt.title("Weight vs Voltage with Linear Fit")
plt.legend()
plt.savefig("Force calibration.png", dpi=500)
plt.show()

# Print to console if desired
print(f"Slope = {slope:.4f}")
print(f"Intercept = {intercept:.4f}")
print(f"R^2 = {r2:.4f}")


conversion_coefficient = slope
friction_voltage = np.mean(ab.tail(3))

friction_force = conversion_coefficient * friction_voltage


k1 = k1_fit
k2 = k2_fit
i = 0.383


lab_file = Path("ELEC 343 Lab 1.xlsx")
sheet_name = ["2C", "2D"]

sheet_read = []
for sheet in sheet_name:
    read = pd.read_excel(lab_file, sheet_name = sheet, skiprows=3)
    sheet_read.append(read)


friction_force


df = pl.DataFrame(sheet_read[0])

# df = df.with_columns(
#     (pl.col('Position (mm/100)') / 100).alias("Position (mm)")
# )
df = df.with_columns(
    (pl.col("load cell voltage") * conversion_coefficient).alias("total measured force"),
    (k1 * (i ** 2) / (pl.col("Position (mm/100)")/100_000 + k2) ** 2 / 2).alias("electromagnetic force from model"), 
).with_columns(
    (pl.col("total measured force") - friction_force).alias("electromagnetic force")  # Subtract friction
)


position = df.select('Position (mm/100)')/100e3
voltage = df.select('electromagnetic force')
theo_voltage = df.select('electromagnetic force from model')

fig, ax = plt.subplots()
ax.plot(position, voltage, label='Measured Force')
ax.plot(position, theo_voltage, label = 'Theoretical Force')
ax.set_title("Position vs Force")
ax.set_ylabel("Force (N)")
ax.set_xlabel("Position (mm)")
ax.legend()
plt.grid()


df_d = pl.DataFrame(sheet_read[1])

df_d = df_d.with_columns(
    (pl.col("load cell voltage") * conversion_coefficient).alias("total measured force"),
    (k1 * (pl.col("solenoid current") ** 2) / (0.1e-3 + k2) ** 2 / 2).alias("electromagnetic force from model"), 
).with_columns(
    (pl.col("total measured force") - friction_force).alias("electromagnetic force")  # Subtract friction
)
df_d = df_d.drop('electromagentic force from model')
df_d_filtered = df_d[:-6]


applied_voltage = df_d_filtered.select('Applied voltage')
current = df_d_filtered.select('solenoid current')
force = df_d_filtered.select('electromagnetic force')
theo_force = df_d_filtered.select('electromagnetic force from model')

fig, ax = plt.subplots()
# ax.plot(applied_voltage, current, label ='Measured Current', color='red')
ax2 = ax.twinx()
ax2.plot(applied_voltage, force, label='Measured Force')
ax2.plot(applied_voltage, theo_force, label='Theoretical Force')
ax.set_title('Part 2D')
ax2.legend()
ax.grid()


speed_data = df_d.filter(pl.col('Applied voltage') == 10)
speed_data

plt.plot(speed_data['electromagnetic force'])
plt.ylim(0, 5)
plt.grid()
plt.title('Force measurement with different pulling speed')



