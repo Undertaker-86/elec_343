import pandas as pd
import matplotlib.pyplot as plt
import numpy as np
import scipy as sc


first_task = pd.read_csv("ELEC 343 Lab 1 - 1B.csv", skiprows=1)
first_task["plunger position (mm)"] = first_task["plunger position (mm)"]/100 
first_task.head()


from scipy.optimize import curve_fit

x_data = first_task["plunger position (mm)"][3:-1].values
y_data = first_task["inductance (mH)"][3:-1].values

# 2. Get L0 from the last row of the DataFrame
L0 = first_task["inductance (mH)"].iloc[-1]

# 3. Define the inductance model: L(x) = k1 / (k2 + x) + L0
def inductance_model(x, k1, k2):
    return k1 / (k2 + x) + L0

# 4. Fit with initial guesses p0
p0 = [1.0, 1.0]
popt, pcov = curve_fit(inductance_model, x_data, y_data, p0=p0)
k1_fit, k2_fit = popt

# 5. Print fitted parameters
print("Fitted parameters:")
print(f"  k1 = {k1_fit:.5f}")
print(f"  k2 = {k2_fit:.5f}")
print(f"  L0 (from data) = {L0:.5f}")

# 6. Compute standard errors
std_errors = np.sqrt(np.diag(pcov))
std_k1, std_k2 = std_errors
print("Standard Errors:")
print(f"  k1 std = {std_k1:.5f}")
print(f"  k2 std = {std_k2:.5f}")

# 7. Evaluate the model on the original x_data for R²
y_pred = inductance_model(x_data, k1_fit, k2_fit)

# Calculate R²
ss_res = np.sum((y_data - y_pred)**2)             # residual sum of squares
ss_tot = np.sum((y_data - np.mean(y_data))**2)    # total sum of squares
r2 = 1 - (ss_res / ss_tot)

print(f"R^2 = {r2:.5f}")

# 8. Plot the data
plt.scatter(x_data, y_data, label="Measured Inductance", color="blue")

# 9. Generate a smooth fitted curve for plotting
x_fit = np.linspace(min(x_data), max(x_data), 200)
y_fit = inductance_model(x_fit, k1_fit, k2_fit)
plt.plot(x_fit, y_fit, label="Fitted Curve", color="red")

# 10. Display the equation and R² on the plot
# We'll show it in the form L(x) = k1/(k2 + x) + L0
# with numeric values for k1, k2, and L0. Adjust formatting as you like.
model_text = (
    f"L(x) = {k1_fit:.3f}/(x + {k2_fit:.3f}) + {L0:.3f}\n"
    f"R² = {r2:.3f}"
)
plt.text(
    0.25, 0.55, 
    model_text, 
    transform=plt.gca().transAxes, 
    fontsize=12, 
    verticalalignment='top'
)

# 11. Label and show
plt.title("Inductance vs Distance")
plt.xlabel("Distance (mm)")
plt.ylabel("Inductance (mH)")
plt.legend()
plt.savefig("Inductance vs distance.png", dpi=500)
plt.show()


ab = pd.read_csv("ELEC 343 Lab 1 - 2AB.csv")
filtered = ab[0:4]
filtered


import numpy as np
import matplotlib.pyplot as plt
from sklearn.metrics import r2_score

# Example Data
# x: Voltage
# y: Weight mass (g) * g (9.81) = Force in Newtons
x = filtered["voltage"].values
y = filtered["weight mass, m (g)"].values * 9.81

# 1. Linear fit using polyfit (degree = 1)
slope, intercept = np.polyfit(x, y, 1)

# 2. Predict y values
y_pred = slope * x + intercept

# 3. Compute R²
r2 = r2_score(y, y_pred)

# 4. Plot the data as scatter
plt.scatter(x, y, label="Data Points", color="blue")

# Sort x for a nice line
x_sorted = np.sort(x)
y_fit = slope * x_sorted + intercept

# 5. Plot the fitted line
plt.plot(x_sorted, y_fit, label="Linear Fit", color="red")

# 6. Display the equation and R² on the plot
eq_text = f"y = {slope:.2f} x + {intercept:.2f}\nR² = {r2:.3f}"
plt.text(
    0.05,      # x-position in figure coordinates (0=left, 1=right)
    0.55,      # y-position in figure coordinates (0=bottom, 1=top)
    eq_text,
    transform=plt.gca().transAxes,  # Place text relative to axes
    fontsize=12,
    verticalalignment='top'         # Align text at the top
)

# Labels and legend
plt.xlabel("Voltage (V)")
plt.ylabel("Weight × g (N)")
plt.title("Weight vs Voltage with Linear Fit")
plt.legend()
plt.savefig("Force calibration.png", dpi=500)
plt.show()

# Print to console if desired
print(f"Slope = {slope:.4f}")
print(f"Intercept = {intercept:.4f}")
print(f"R^2 = {r2:.4f}")
